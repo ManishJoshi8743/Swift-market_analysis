{
 "cells": [
  {
   "cell_type": "code",
   "execution_count": 4,
   "metadata": {},
   "outputs": [
    {
     "ename": "",
     "evalue": "",
     "output_type": "error",
     "traceback": [
      "\u001b[1;31mThe kernel failed to start as the Python Environment 'Swift-market_analysis (Python -1.-1.-1)' is no longer available. Consider selecting another kernel or refreshing the list of Python Environments."
     ]
    }
   ],
   "source": [
    "import os\n",
    "\n",
    "import pandas as pd\n",
    "import numpy as np\n",
    "import matplotlib.pyplot as plt\n",
    "import seaborn as sns\n",
    "\n",
    "from readsql import queryToDataFrame,showTables,DescribeTable"
   ]
  },
  {
   "cell_type": "code",
   "execution_count": null,
   "metadata": {},
   "outputs": [],
   "source": [
    "showTables()"
   ]
  },
  {
   "cell_type": "markdown",
   "metadata": {},
   "source": [
    " 1. Provide a visual representation of our annual sales performance over time."
   ]
  },
  {
   "cell_type": "code",
   "execution_count": null,
   "metadata": {},
   "outputs": [],
   "source": []
  },
  {
   "cell_type": "code",
   "execution_count": null,
   "metadata": {},
   "outputs": [],
   "source": [
    "query = \"\"\" SELECT MONTHNAME(SaleDate) AS Month,\n",
    "SUM(TotalPrice) AS total_sales\n",
    " FROM Salesdata\n",
    "GROUP BY MONTH(SaleDate),MONTHNAME(SaleDate)\n",
    " ORDER BY MONTH(SaleDate),MONTHNAME(SaleDate) \"\"\"\n",
    "\n",
    "df = queryToDataFrame(query)\n",
    "df\n",
    " "
   ]
  },
  {
   "cell_type": "code",
   "execution_count": 13,
   "metadata": {},
   "outputs": [],
   "source": [
    "months = df['Month'].values\n",
    "sales_values = df['total_sales']  = df['total_sales'].astype(float).values"
   ]
  },
  {
   "cell_type": "code",
   "execution_count": null,
   "metadata": {},
   "outputs": [],
   "source": [
    "df.info()"
   ]
  },
  {
   "cell_type": "code",
   "execution_count": null,
   "metadata": {},
   "outputs": [],
   "source": [
    "plt.figure(figsize=(12, 6))\n",
    "plt.plot(months,sales_values,linestyle='-',linewidth=2,color='blue',marker='o',)\n",
    "plt.title('Annual Sales Performance ',fontdict={'family':'Arial','size':18,'color':'darkblue'},pad=15)\n",
    "plt.xlabel(\"months\",fontdict={'family':'Arial','size':14,'color':'black'},labelpad=10)\n",
    "plt.ylabel(\"sales_values\",fontdict={'family':'Arial','size':14,'color':'black'},labelpad=10)\n",
    "\n",
    "\n",
    "for i in range(len(df['Month'])):\n",
    "    plt.annotate(xy=(i,df['total_sales'].values[i]),\n",
    "                 text = df['total_sales'].values[i],\n",
    "                 horizontalalignment='center')\n",
    "    \n",
    "\n",
    "plt.grid(linestyle = '--',color='Grey',linewidth =0.5)\n",
    "plt.show()"
   ]
  },
  {
   "cell_type": "code",
   "execution_count": null,
   "metadata": {},
   "outputs": [],
   "source": []
  },
  {
   "cell_type": "code",
   "execution_count": null,
   "metadata": {},
   "outputs": [],
   "source": []
  },
  {
   "cell_type": "markdown",
   "metadata": {},
   "source": [
    "2. The client is interested in understanding how the sales have been fluctuating\n",
    "over time to identify any underlying patterns or anomalies Analyze the trend in\n",
    "our monthly sales using a moving average technique."
   ]
  },
  {
   "cell_type": "code",
   "execution_count": null,
   "metadata": {},
   "outputs": [],
   "source": [
    "query = \"\"\"select\n",
    "months,\n",
    "AVG(monthlysales) OVER (ORDER BY monthnum ROWS BETWEEN 3\n",
    "PRECEDING AND CURRENT ROW) AS MovingAverage\n",
    "from\n",
    "(SELECT\n",
    "month(saledate) monthnum,\n",
    "monthname(SaleDate) as months,\n",
    "sum(totalprice) as monthlysales\n",
    "FROM Salesdata\n",
    "Group by month(saledate),monthname(saledate)) t;\"\"\"\n",
    "\n",
    "df = queryToDataFrame(query)\n",
    "df"
   ]
  },
  {
   "cell_type": "code",
   "execution_count": 35,
   "metadata": {},
   "outputs": [],
   "source": [
    "months = df['months'].values\n",
    "Moving_Average = df['MovingAverage'] = df['MovingAverage'].astype(float).values"
   ]
  },
  {
   "cell_type": "code",
   "execution_count": null,
   "metadata": {},
   "outputs": [],
   "source": [
    "df.info()\n"
   ]
  },
  {
   "cell_type": "code",
   "execution_count": null,
   "metadata": {},
   "outputs": [],
   "source": [
    "plt.figure(figsize=(12,6))\n",
    "\n",
    "plt.title('Moving Average Over Time',  fontdict={'family':'Arial','size':20,'color':'darkblue'},pad=20)\n",
    "plt.plot(months,Moving_Average,marker='o',color='green')\n",
    "plt.xlabel('months',fontdict={'family':'serif','size':14,'color':'black'},labelpad=10)\n",
    "plt.ylabel('MovingAverage',fontdict={'family':'Arial','size':14,'color':'black'},labelpad=10)\n",
    "\n",
    "\n",
    "for i in range(len(df['months'])):\n",
    "    plt.annotate(xy=(i, df['MovingAverage'].values[i]), \n",
    "                 text=df['MovingAverage'].values[i], \n",
    "                 horizontalalignment='center')\n",
    "\n",
    "\n",
    "plt.grid(linestyle = '--',color='Grey',linewidth =0.5)\n",
    "plt.show()\n"
   ]
  },
  {
   "cell_type": "code",
   "execution_count": null,
   "metadata": {},
   "outputs": [],
   "source": []
  },
  {
   "cell_type": "code",
   "execution_count": null,
   "metadata": {},
   "outputs": [],
   "source": []
  },
  {
   "cell_type": "markdown",
   "metadata": {},
   "source": [
    " 3. Explore the month-over-month growth rate in sales."
   ]
  },
  {
   "cell_type": "code",
   "execution_count": null,
   "metadata": {},
   "outputs": [],
   "source": [
    "query = \"\"\" select\n",
    " months,\n",
    " 100*(monthlysales-lag(monthlysales) over(order by monthnum))/\n",
    " lag(monthlysales) over(order by monthnum) as 'growthrate in %'\n",
    " from\n",
    " (SELECT\n",
    " month(saledate) monthnum,\n",
    " monthname(SaleDate) as months,\n",
    " sum(totalprice) as monthlysales\n",
    " FROM Salesdata\n",
    " Group by month(saledate),monthname(saledate)) t\n",
    " order by monthnum,months;\"\"\"\n",
    "\n",
    "df = queryToDataFrame(query)\n",
    "df"
   ]
  },
  {
   "cell_type": "code",
   "execution_count": 54,
   "metadata": {},
   "outputs": [],
   "source": [
    "Months = df['months'].values\n",
    "growthrate=df['growthrate in %']= df['growthrate in %'].astype('float').values"
   ]
  },
  {
   "cell_type": "code",
   "execution_count": null,
   "metadata": {},
   "outputs": [],
   "source": [
    "df.info()"
   ]
  },
  {
   "cell_type": "code",
   "execution_count": null,
   "metadata": {},
   "outputs": [],
   "source": [
    "plt.figure(figsize=(12, 6))\n",
    "plt.title('Growth Rate Over Time', fontdict={'family':'Arial','size':20,'color':'darkblue'},pad=20)\n",
    "plt.plot(Months, growthrate, marker='o', color='teal')\n",
    "\n",
    "plt.xlabel('Month', fontdict={'family':'Arial','size':17,'color':'black'},labelpad=15)\n",
    "plt.ylabel('Growth Rate (%)', fontdict={'family':'Arial','size':17,'color':'black'},labelpad=15)\n",
    "\n",
    "for i in range(len(Months)):\n",
    "    plt.annotate(xy=(Months[i], growthrate[i]),\n",
    "                 text=growthrate[i],\n",
    "                 horizontalalignment='center')\n",
    "\n",
    "plt.grid(axis='y',linestyle='--',color='Grey',linewidth=0.5)\n",
    "plt.tight_layout()\n",
    "plt.show()\n"
   ]
  },
  {
   "cell_type": "code",
   "execution_count": null,
   "metadata": {},
   "outputs": [],
   "source": []
  },
  {
   "cell_type": "code",
   "execution_count": null,
   "metadata": {},
   "outputs": [],
   "source": []
  },
  {
   "cell_type": "markdown",
   "metadata": {},
   "source": [
    "4. identify the top-performing sales representatives based on their total sales\n",
    "volume"
   ]
  },
  {
   "cell_type": "code",
   "execution_count": null,
   "metadata": {},
   "outputs": [],
   "source": [
    "query = \"\"\"select t.employeeid,e.firstname,t.totalsales\n",
    " from\n",
    " (select employeeid,sum(totalprice) as totalsales\n",
    " from salesdata\n",
    " group by EmployeeID) t\n",
    " join employees e\n",
    " on t.employeeid=e.EmployeeID\n",
    " order by t.totalsales desc\n",
    " limit 10;\"\"\"\n",
    "\n",
    "\n",
    "df = queryToDataFrame(query)\n",
    "df"
   ]
  },
  {
   "cell_type": "code",
   "execution_count": 69,
   "metadata": {},
   "outputs": [],
   "source": [
    "employees = df ['firstname'].values\n",
    "Totalsales = df ['totalsales']= df['totalsales'].astype(float).values"
   ]
  },
  {
   "cell_type": "code",
   "execution_count": null,
   "metadata": {},
   "outputs": [],
   "source": [
    "df.info()"
   ]
  },
  {
   "cell_type": "code",
   "execution_count": 72,
   "metadata": {},
   "outputs": [],
   "source": [
    "cmap_val = np.linspace(0.3,0.7,10)\n",
    "cmap = plt.cm.Blues(cmap_val)"
   ]
  },
  {
   "cell_type": "code",
   "execution_count": null,
   "metadata": {},
   "outputs": [],
   "source": [
    "plt.figure(figsize=(12, 6))\n",
    "plt.bar(employees,Totalsales,color=cmap,edgecolor='black')\n",
    "plt.plot(employees,Totalsales, marker='o', color= 'Darkblue',linewidth=2)\n",
    "plt.title('Employee Sales Performance', fontdict={'family':'Arial','size':20,'color':'black'},pad=20)\n",
    "\n",
    "plt.xlabel('Month', fontdict={'family':'Arial','size':17,'color':'Black'},labelpad=15) \n",
    "plt.ylabel('Growth Rate (%)',fontdict={'family':'Arial','size':17,'color':'black'},labelpad=15)\n",
    "\n",
    "for i in range(len(Totalsales)):\n",
    "    plt.annotate(xy=(employees[i], Totalsales[i]),\n",
    "                 text=Totalsales[i],\n",
    "                 horizontalalignment='center')\n",
    "\n",
    "\n",
    "plt.grid(axis='y',linestyle='--',color='Grey',linewidth=0.5)\n",
    "plt.tight_layout()\n",
    "plt.show()"
   ]
  },
  {
   "cell_type": "code",
   "execution_count": null,
   "metadata": {},
   "outputs": [],
   "source": []
  },
  {
   "cell_type": "code",
   "execution_count": null,
   "metadata": {},
   "outputs": [],
   "source": []
  },
  {
   "cell_type": "markdown",
   "metadata": {},
   "source": [
    "5. what are the total sales made by each employee?"
   ]
  },
  {
   "cell_type": "code",
   "execution_count": null,
   "metadata": {},
   "outputs": [],
   "source": [
    "query = \"\"\"select firstname,sum(totalprice) as total\n",
    "from employees e\n",
    "join salesdata s\n",
    "on e.employeeid = s.employeeid\n",
    "group by firstname\n",
    "order by total desc\n",
    "limit 10;\"\"\"\n",
    "\n",
    "df = queryToDataFrame(query)\n",
    "df"
   ]
  },
  {
   "cell_type": "code",
   "execution_count": 88,
   "metadata": {},
   "outputs": [],
   "source": [
    "employees = df['firstname'].values\n",
    "Totalsales = df['total'] = df['total'].astype('float').values"
   ]
  },
  {
   "cell_type": "code",
   "execution_count": null,
   "metadata": {},
   "outputs": [],
   "source": [
    "df.info()"
   ]
  },
  {
   "cell_type": "code",
   "execution_count": 97,
   "metadata": {},
   "outputs": [],
   "source": [
    "cmap_val = np.linspace(0.3,0.7,10)\n",
    "cmap = plt.cm.Accent(cmap_val)"
   ]
  },
  {
   "cell_type": "code",
   "execution_count": null,
   "metadata": {},
   "outputs": [],
   "source": [
    "plt.figure(figsize=(12, 6))\n",
    "plt.bar(employees,Totalsales ,color=cmap,edgecolor='black')\n",
    "plt.title('Employee Sales Performance', fontdict={'family':'Arial','size':20,'color':'black'},pad=20)\n",
    "plt.xlabel('employees', fontdict={'family':'Arial','size':17,'color':'Black'},labelpad=15) \n",
    "plt.ylabel('Tolal_sales',fontdict={'family':'Arial','size':17,'color':'black'},labelpad=15)\n",
    "\n",
    "\n",
    "plt.grid(axis='y',linestyle='--',color='Grey',linewidth=0.5)\n",
    "plt.tight_layout()\n",
    "plt.show()"
   ]
  },
  {
   "cell_type": "code",
   "execution_count": null,
   "metadata": {},
   "outputs": [],
   "source": []
  },
  {
   "cell_type": "code",
   "execution_count": null,
   "metadata": {},
   "outputs": [],
   "source": []
  },
  {
   "cell_type": "markdown",
   "metadata": {},
   "source": [
    "6. Which category has the highest total sales ?"
   ]
  },
  {
   "cell_type": "code",
   "execution_count": null,
   "metadata": {},
   "outputs": [],
   "source": [
    "query = \"\"\" SELECT\n",
    " c.CategoryName,\n",
    " SUM(s.TotalPrice) AS TotalSales\n",
    " FROM Salesdata s\n",
    " JOIN Subcategories sc ON s.SubcatID = sc.SubcatID\n",
    " JOIN Categories c ON sc.CategoryID = c.CategoryID\n",
    " GROUP BY c.CategoryName\n",
    " ORDER BY TotalSales DESC;\"\"\"\n",
    "\n",
    "df = queryToDataFrame(query)\n",
    "df"
   ]
  },
  {
   "cell_type": "code",
   "execution_count": null,
   "metadata": {},
   "outputs": [],
   "source": [
    "Category = df['CategoryName'].values\n",
    "Total_sales = df['TotalSales'] = df['TotalSales'].astype('float').values\n",
    "\n",
    "df.info()"
   ]
  },
  {
   "cell_type": "code",
   "execution_count": null,
   "metadata": {},
   "outputs": [],
   "source": [
    "cmap_val = np.linspace(0.3,0.7,10)\n",
    "cmap = plt.cm.PuBu(cmap_val)"
   ]
  },
  {
   "cell_type": "code",
   "execution_count": null,
   "metadata": {},
   "outputs": [],
   "source": [
    "plt.figure(figsize=(12, 6))\n",
    "plt.pie(x=Total_sales,labels=Category,autopct='%.2f%%',\n",
    "        explode=(0.1,0,0,0,0,0),\n",
    "       labeldistance=1.3,\n",
    "       colors=cmap)\n",
    "   \n",
    "plt.show()"
   ]
  },
  {
   "cell_type": "code",
   "execution_count": null,
   "metadata": {},
   "outputs": [],
   "source": []
  },
  {
   "cell_type": "code",
   "execution_count": null,
   "metadata": {},
   "outputs": [],
   "source": []
  },
  {
   "cell_type": "markdown",
   "metadata": {},
   "source": [
    "7. How many customers are there in each state?"
   ]
  },
  {
   "cell_type": "code",
   "execution_count": null,
   "metadata": {},
   "outputs": [],
   "source": [
    "query = \"\"\"SELECT\n",
    "State,\n",
    "COUNT(*) AS TotalCustomers\n",
    "FROM Customers\n",
    "GROUP BY State\n",
    "ORDER BY TotalCustomers desc\n",
    "limit 10;\"\"\"\n",
    "\n",
    "df = queryToDataFrame(query)\n",
    "df"
   ]
  },
  {
   "cell_type": "code",
   "execution_count": null,
   "metadata": {},
   "outputs": [],
   "source": [
    "states = df['State'].values\n",
    "No_of_customers = df['TotalCustomers'].values\n",
    "df.info()"
   ]
  },
  {
   "cell_type": "code",
   "execution_count": null,
   "metadata": {},
   "outputs": [],
   "source": [
    "cmap_val = np.linspace(0.2,0.5,10)\n",
    "cmap = plt.cm.viridis(cmap_val)"
   ]
  },
  {
   "cell_type": "code",
   "execution_count": null,
   "metadata": {},
   "outputs": [],
   "source": [
    "plt.figure(figsize=(12, 7))\n",
    "plt.title(\"No of Customers by States\",fontdict={'family':'Arial','size':20,'color':'black'},pad=20 )\n",
    "plt.bar(states,No_of_customers, color=cmap)\n",
    "\n",
    "plt.xlabel('States',fontdict={'family':'Arial','size':15,'color':'black'},labelpad=15)\n",
    "plt.ylabel('No_of_customers', fontdict={'family':'Arial','size':15,'color':'black'},labelpad=15)\n",
    "\n",
    "for i in range(len(states)):\n",
    "    plt.annotate(xy=(i, No_of_customers[i]),\n",
    "                 text=str(No_of_customers[i]),\n",
    "                 horizontalalignment='center',size=10)\n",
    "            \n",
    "\n",
    "plt.xticks(rotation=90,fontsize=12)\n",
    "plt.grid(axis='y',linestyle='--',color='Grey',linewidth=0.5)\n",
    "plt.tight_layout()\n",
    "plt.show()"
   ]
  },
  {
   "cell_type": "code",
   "execution_count": null,
   "metadata": {},
   "outputs": [],
   "source": []
  },
  {
   "cell_type": "code",
   "execution_count": null,
   "metadata": {},
   "outputs": [],
   "source": []
  },
  {
   "cell_type": "markdown",
   "metadata": {},
   "source": [
    "8. What is the average quantity of each product sold ? "
   ]
  },
  {
   "cell_type": "code",
   "execution_count": null,
   "metadata": {},
   "outputs": [],
   "source": [
    "query = \"\"\" SELECT s.SubcatID,sb.SubcatName ,AVG(Quantity) AS AvgQuantitySold\n",
    " FROM Salesdata s\n",
    " join subcategories sb on s.subcatid=sb.SubcatID\n",
    " GROUP BY s.SubcatID,sb.subcatname;\"\"\"\n",
    "\n",
    "df = queryToDataFrame(query)\n",
    "df"
   ]
  },
  {
   "cell_type": "code",
   "execution_count": null,
   "metadata": {},
   "outputs": [],
   "source": [
    "Categories = df['SubcatName'].values\n",
    "quantity = df['AvgQuantitySold'] = df['AvgQuantitySold'].astype('float').values"
   ]
  },
  {
   "cell_type": "code",
   "execution_count": null,
   "metadata": {},
   "outputs": [],
   "source": [
    "plt.figure(figsize=(12, 6))\n",
    "plt.bar(Categories,quantity ,color=cmap,edgecolor='black')\n",
    "plt.title('Avg_quantity_sold', fontdict={'family':'Arial','size':20,'color':'black'},pad=20)\n",
    "plt.xlabel('Quantity Sold', fontdict={'family':'Arial','size':17,'color':'Black'},labelpad=15) \n",
    "plt.ylabel('SubcatName',fontdict={'family':'Arial','size':17,'color':'black'},labelpad=15)\n",
    "\n",
    "\n",
    "plt.xticks(rotation=90)\n",
    "plt.grid(axis='y',linestyle='--',color='Grey',linewidth=0.5)\n",
    "plt.tight_layout()\n",
    "plt.show()"
   ]
  },
  {
   "cell_type": "code",
   "execution_count": null,
   "metadata": {},
   "outputs": [],
   "source": []
  },
  {
   "cell_type": "code",
   "execution_count": null,
   "metadata": {},
   "outputs": [],
   "source": []
  },
  {
   "cell_type": "markdown",
   "metadata": {},
   "source": [
    "9. Which supplier has the highest total sales?"
   ]
  },
  {
   "cell_type": "code",
   "execution_count": null,
   "metadata": {},
   "outputs": [],
   "source": [
    "query = \"\"\"SELECT\n",
    "SupplierName,\n",
    "SUM(TotalPrice) AS TotalSales\n",
    "FROM Salesdata s\n",
    "JOIN Subcategories sc ON s.SubcatID = sc.SubcatID\n",
    "JOIN Suppliers su ON sc.SupplierID = su.SupplierID\n",
    "GROUP BY SupplierName\n",
    "ORDER BY TotalSales DESC\n",
    "limit 10;\"\"\"\n",
    "\n",
    "df = queryToDataFrame(query)\n",
    "df"
   ]
  },
  {
   "cell_type": "code",
   "execution_count": null,
   "metadata": {},
   "outputs": [],
   "source": [
    "Suppliername = df['SupplierName'].values\n",
    "Totalprice = df['TotalSales'] = df['TotalSales'].astype(float).values\n",
    "df.info()"
   ]
  },
  {
   "cell_type": "code",
   "execution_count": null,
   "metadata": {},
   "outputs": [],
   "source": [
    "cmap_val = np.linspace(0.3,0.7,10)\n",
    "cmap = plt.cm.magma(cmap_val)"
   ]
  },
  {
   "cell_type": "code",
   "execution_count": null,
   "metadata": {},
   "outputs": [],
   "source": [
    "plt.figure(figsize=(14,7))\n",
    "plt.title(' Sales by supplier', fontdict={'family':'Arial','size':20,'color':'black'},pad=20 )\n",
    "plt.bar(Suppliername, Totalprice, color=cmap)\n",
    "\n",
    "plt.xlabel('Category', fontdict={'family':'Arial','size':20,'color':'black'},labelpad=10)\n",
    "plt.ylabel('Sales', fontdict={'family':'Arial','size':20,'color':'black'},labelpad=15)\n",
    "\n",
    "for i in range(len(Suppliername)):\n",
    "    plt.annotate(xy=(i, Totalprice[i]),\n",
    "                 text=str(Totalprice[i]),\n",
    "                 horizontalalignment='center',)\n",
    "\n",
    "plt.xticks(rotation=90)\n",
    "plt.grid(axis='y',linestyle='--',color='Grey',linewidth=0.5)\n",
    "plt.tight_layout()\n",
    "plt.show()\n"
   ]
  },
  {
   "cell_type": "code",
   "execution_count": null,
   "metadata": {},
   "outputs": [],
   "source": []
  },
  {
   "cell_type": "code",
   "execution_count": null,
   "metadata": {},
   "outputs": [],
   "source": []
  },
  {
   "cell_type": "markdown",
   "metadata": {},
   "source": [
    "10. What is the total revenue generated from sales in each state?"
   ]
  },
  {
   "cell_type": "code",
   "execution_count": null,
   "metadata": {},
   "outputs": [],
   "source": [
    "query = \"\"\"SELECT\n",
    "c.State,\n",
    "SUM(s.TotalPrice) AS TotalRevenue\n",
    "FROM Salesdata s\n",
    "JOIN Customers c ON s.CustomerID = c.CustomerID\n",
    "GROUP BY c.State\n",
    "limit 10;\"\"\"\n",
    "\n",
    "df = queryToDataFrame(query)\n",
    "df"
   ]
  },
  {
   "cell_type": "code",
   "execution_count": null,
   "metadata": {},
   "outputs": [],
   "source": [
    "State = df['State'].values\n",
    "Total_Revenue = df['TotalRevenue'] = df['TotalRevenue'].astype(float).values\n",
    "df.info()"
   ]
  },
  {
   "cell_type": "code",
   "execution_count": null,
   "metadata": {},
   "outputs": [],
   "source": [
    "cmap_val = np.linspace(0.4,0.9,10)\n",
    "cmap = plt.cm.Blues(cmap_val)"
   ]
  },
  {
   "cell_type": "code",
   "execution_count": null,
   "metadata": {},
   "outputs": [],
   "source": [
    "plt.figure(figsize=(14, 7))\n",
    "plt.title('State-wise Total Sales Revenue', fontdict={'family':'Arial','size':20,'color':'black'},pad=20)\n",
    "plt.bar(State, Total_Revenue, color=cmap)\n",
    "\n",
    "plt.xlabel('States', fontdict={'family':'Arial','size':15,'color':'black'},labelpad=10)\n",
    "plt.ylabel('Sales', fontdict={'family':'Arial','size':15,'color':'black'},labelpad=10)\n",
    "\n",
    "for i in range(len(State)):\n",
    "    plt.annotate(xy=(i, Total_Revenue[i]),\n",
    "                 text=str(Total_Revenue[i]),\n",
    "                 horizontalalignment='center')\n",
    "\n",
    "plt.xticks(rotation=45)\n",
    "plt.grid(axis='y',linestyle='--',color='Grey',linewidth=0.5)\n",
    "plt.tight_layout()\n",
    "plt.show()"
   ]
  },
  {
   "cell_type": "code",
   "execution_count": null,
   "metadata": {},
   "outputs": [],
   "source": []
  },
  {
   "cell_type": "code",
   "execution_count": null,
   "metadata": {},
   "outputs": [],
   "source": []
  },
  {
   "cell_type": "markdown",
   "metadata": {},
   "source": [
    "11. How many sales were made by each customer. ?"
   ]
  },
  {
   "cell_type": "code",
   "execution_count": null,
   "metadata": {},
   "outputs": [],
   "source": [
    "query = \"\"\"SELECT\n",
    "s.CustomerID,\n",
    "c.firstname,\n",
    "COUNT(*) AS TotalSales\n",
    "FROM Salesdata s\n",
    "join customers c\n",
    "on s.CustomerID=c.CustomerID\n",
    "GROUP BY s.CustomerID,c.firstname\n",
    "order by TotalSales desc\n",
    "limit 10;\"\"\"\n",
    "\n",
    "df = queryToDataFrame(query)\n",
    "df"
   ]
  },
  {
   "cell_type": "code",
   "execution_count": null,
   "metadata": {},
   "outputs": [],
   "source": [
    "Customer_Names = df['firstname'].values\n",
    "Total_sales = df['TotalSales'] = df['TotalSales'].astype(float).values\n",
    "df.info()"
   ]
  },
  {
   "cell_type": "code",
   "execution_count": null,
   "metadata": {},
   "outputs": [],
   "source": [
    "cmap_val = np.linspace(0.4,0.8,10)\n",
    "cmap = plt.cm.YlGn(cmap_val)"
   ]
  },
  {
   "cell_type": "code",
   "execution_count": null,
   "metadata": {},
   "outputs": [],
   "source": [
    "plt.figure(figsize=(14, 7))\n",
    "plt.title('Top Customers With Highest Sales', fontdict={'family':'Arial','size':20,'color':'black'},pad=20)\n",
    "plt.bar(Customer_Names, Total_sales, color=cmap)\n",
    "\n",
    "plt.xlabel('Customer_Names', fontdict={'family':'Arial','size':15,'color':'black'},labelpad=10)\n",
    "plt.ylabel('Total Sales', fontdict={'family':'Arial','size':15,'color':'black'},labelpad=10)\n",
    "\n",
    "for i in range(len(Customer_Names)):\n",
    "    plt.annotate(xy=(i, Total_sales[i]),\n",
    "                 text=str(Total_sales[i]),\n",
    "                 horizontalalignment='center') \n",
    "\n",
    "plt.xticks(rotation=45)\n",
    "plt.grid(axis='y',linestyle='--',color='Grey',linewidth=0.5)\n",
    "plt.tight_layout()\n",
    "plt.show()\n"
   ]
  },
  {
   "cell_type": "code",
   "execution_count": null,
   "metadata": {},
   "outputs": [],
   "source": []
  },
  {
   "cell_type": "code",
   "execution_count": null,
   "metadata": {},
   "outputs": [],
   "source": []
  },
  {
   "cell_type": "markdown",
   "metadata": {},
   "source": [
    "12. What is the total salary expenditure on employees in each department?"
   ]
  },
  {
   "cell_type": "code",
   "execution_count": null,
   "metadata": {},
   "outputs": [],
   "source": [
    "query = \"\"\"SELECT\n",
    "Department,\n",
    "SUM(Salary) AS TotalSalaryExpenditure\n",
    "FROM Employees\n",
    "GROUP BY Department;\"\"\"\n",
    "\n",
    "df = queryToDataFrame(query)\n",
    "df"
   ]
  },
  {
   "cell_type": "code",
   "execution_count": null,
   "metadata": {},
   "outputs": [],
   "source": [
    "Departments = df['Department'].values\n",
    "Expenditure = df['TotalSalaryExpenditure'] = df['TotalSalaryExpenditure'].astype(float).values\n",
    "df.info()"
   ]
  },
  {
   "cell_type": "code",
   "execution_count": null,
   "metadata": {},
   "outputs": [],
   "source": [
    "cmap_val = np.linspace(0.3,1,10)\n",
    "cmap = plt.cm.BuGn(cmap_val)"
   ]
  },
  {
   "cell_type": "code",
   "execution_count": null,
   "metadata": {},
   "outputs": [],
   "source": [
    "plt.figure(figsize=(12, 6))\n",
    "plt.title('Departmen Expenditure', fontdict={'family':'Arial','size':20,'color':'black'},pad=10)\n",
    "plt.bar(Departments, Expenditure, color=cmap)\n",
    "\n",
    "plt.xlabel('Departments', fontdict={'family':'Arial','size':15,'color':'black'},labelpad=10)\n",
    "plt.ylabel('Salary',  fontdict={'family':'Arial','size':15,'color':'black'},labelpad=10)\n",
    "\n",
    "for i in range(len(Departments)):\n",
    "    plt.annotate(xy=(i, Expenditure[i]),\n",
    "                 text=str(Expenditure[i]),\n",
    "                 horizontalalignment='center')\n",
    "\n",
    "# plt.xticks(rotation=45)\n",
    "plt.grid(axis='y',linestyle='--',color='Grey',linewidth=0.5)\n",
    "plt.tight_layout()\n",
    "plt.show()\n"
   ]
  },
  {
   "cell_type": "code",
   "execution_count": null,
   "metadata": {},
   "outputs": [],
   "source": []
  },
  {
   "cell_type": "code",
   "execution_count": null,
   "metadata": {},
   "outputs": [],
   "source": []
  },
  {
   "cell_type": "markdown",
   "metadata": {},
   "source": [
    "# 13.Which subcategory has the highest sellinge price ?"
   ]
  },
  {
   "cell_type": "code",
   "execution_count": null,
   "metadata": {},
   "outputs": [],
   "source": [
    "query = \"\"\"SELECT\n",
    " SubcatName,\n",
    " AVG(UnitPrice) AS AvgSellingPrice\n",
    " FROM Subcategories\n",
    " GROUP BY SubcatName\n",
    " ORDER BY AvgSellingPrice DESC\n",
    " limit 5;\"\"\"\n",
    "\n",
    "df = queryToDataFrame(query)\n",
    "df"
   ]
  },
  {
   "cell_type": "code",
   "execution_count": null,
   "metadata": {},
   "outputs": [],
   "source": [
    "subcategory = df['SubcatName'].values\n",
    "selling_price = df['AvgSellingPrice'] = df['AvgSellingPrice'].astype('float').values"
   ]
  },
  {
   "cell_type": "code",
   "execution_count": null,
   "metadata": {},
   "outputs": [],
   "source": [
    "df.info()"
   ]
  },
  {
   "cell_type": "code",
   "execution_count": null,
   "metadata": {},
   "outputs": [],
   "source": [
    "cmap_val = np.linspace(0.3,1,10)\n",
    "cmap = plt.cm.BuPu(cmap_val)"
   ]
  },
  {
   "cell_type": "code",
   "execution_count": null,
   "metadata": {},
   "outputs": [],
   "source": [
    "plt.figure(figsize=(12, 6))\n",
    "plt.pie(x=selling_price,labels=subcategory,autopct='%.2f%%',\n",
    "        explode=(0.1,0,0,0,0),\n",
    "       labeldistance=1.3,\n",
    "       colors=cmap)\n",
    "   \n",
    "plt.show()"
   ]
  },
  {
   "cell_type": "code",
   "execution_count": null,
   "metadata": {},
   "outputs": [],
   "source": []
  },
  {
   "cell_type": "code",
   "execution_count": null,
   "metadata": {},
   "outputs": [],
   "source": []
  },
  {
   "cell_type": "markdown",
   "metadata": {},
   "source": [
    "14. What is the total revenue generated from sales in each category"
   ]
  },
  {
   "cell_type": "code",
   "execution_count": null,
   "metadata": {},
   "outputs": [],
   "source": [
    "query = \"\"\"SELECT\n",
    " c.CategoryName,\n",
    " SUM(s.TotalPrice) AS TotalRevenue\n",
    " FROM Salesdata s\n",
    " JOIN Subcategories sc ON s.SubcatID = sc.SubcatID\n",
    " JOIN Categories c ON sc.CategoryID = c.CategoryID\n",
    " GROUP BY c.CategoryName;\"\"\"\n",
    "\n",
    "df = queryToDataFrame(query)"
   ]
  },
  {
   "cell_type": "code",
   "execution_count": null,
   "metadata": {},
   "outputs": [],
   "source": [
    "Categoryname = df['CategoryName'].values\n",
    "Totalsales = df['TotalRevenue'] = df['TotalRevenue'].astype(float).values\n",
    "df.info()\n"
   ]
  },
  {
   "cell_type": "code",
   "execution_count": null,
   "metadata": {},
   "outputs": [],
   "source": [
    "cmap_val = np.linspace(0.2,1,10)\n",
    "cmap = plt.cm.BuPu(cmap_val)"
   ]
  },
  {
   "cell_type": "code",
   "execution_count": null,
   "metadata": {},
   "outputs": [],
   "source": [
    "plt.figure(figsize=(12, 6))\n",
    "plt.title('Revenue From Each Categories', fontdict={'family':'Arial','size':20,'color':'black'},pad=10)\n",
    "plt.bar(Categoryname, Totalsales, color=cmap)\n",
    "\n",
    "plt.xlabel('Categories', fontdict={'family':'Arial','size':15,'color':'black'},labelpad=10)\n",
    "plt.ylabel('Sales', fontdict={'family':'Arial','size':15,'color':'black'},labelpad=10)\n",
    "\n",
    "for i in range(len(Categoryname)):\n",
    "    plt.annotate(xy=(i, Totalsales[i]),\n",
    "                 text=str(Totalsales[i]),\n",
    "                 horizontalalignment='center')\n",
    "\n",
    "plt.xticks(rotation=90)\n",
    "plt.grid(axis='y',linestyle='--',color='Grey',linewidth=0.5)\n",
    "plt.tight_layout()\n",
    "plt.show()\n"
   ]
  }
 ],
 "metadata": {
  "kernelspec": {
   "display_name": "Swift-market_analysis",
   "language": "python",
   "name": "python3"
  },
  "language_info": {
   "codemirror_mode": {
    "name": "ipython",
    "version": 3
   },
   "file_extension": ".py",
   "mimetype": "text/x-python",
   "name": "python",
   "nbconvert_exporter": "python",
   "pygments_lexer": "ipython3",
   "version": "undefined.undefined.undefined"
  }
 },
 "nbformat": 4,
 "nbformat_minor": 4
}
